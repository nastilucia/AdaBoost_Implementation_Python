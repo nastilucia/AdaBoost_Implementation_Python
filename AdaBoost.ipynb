{
 "cells": [
  {
   "cell_type": "code",
   "execution_count": 2,
   "metadata": {},
   "outputs": [],
   "source": [
    "import numpy as np"
   ]
  },
  {
   "cell_type": "code",
   "execution_count": null,
   "metadata": {},
   "outputs": [],
   "source": [
    "\n",
    "# Compute error rate, alpha and w\n",
    "\n",
    "def compute_error(y, y_pred, w_i):\n",
    "    '''\n",
    "    Calculate the error rate of a weak classifier m. Arguments:\n",
    "    y: actual target value\n",
    "    y_pred: predicted value by weak classifier\n",
    "    w_i: individual weights for each observation\n",
    "    \n",
    "    Note that all arrays should be the same length\n",
    "    NB: remember that the sum of the error has to be 1\n",
    "    '''\n",
    "    return (sum(w_i * (np.not_equal(y, y_pred)).astype(int)))/sum(w_i)\n",
    "\n",
    "def compute_alpha(error):\n",
    "    '''\n",
    "    Calculate the weight of a weak classifier m in the majority vote of the final classifier. This is called\n",
    "    alpha in chapter 10.1 of The Elements of Statistical Learning. Arguments:\n",
    "    error: error rate from weak classifier m\n",
    "    '''\n",
    "    return np.log((1 - error) / error)\n",
    "\n",
    "def update_weights(w_i, alpha, y, y_pred):\n",
    "    ''' \n",
    "    Update individual weights w_i after a boosting iteration. Arguments:\n",
    "    w_i: individual weights for each observation\n",
    "    y: actual target value\n",
    "    y_pred: predicted value by weak classifier  \n",
    "    alpha: weight of weak classifier used to estimate y_pred\n",
    "    '''  \n",
    "    return w_i * np.exp(alpha * (np.not_equal(y, y_pred)).astype(int))\n"
   ]
  }
 ],
 "metadata": {
  "kernelspec": {
   "display_name": "Python 3",
   "language": "python",
   "name": "python3"
  },
  "language_info": {
   "codemirror_mode": {
    "name": "ipython",
    "version": 3
   },
   "file_extension": ".py",
   "mimetype": "text/x-python",
   "name": "python",
   "nbconvert_exporter": "python",
   "pygments_lexer": "ipython3",
   "version": "3.9.10"
  },
  "orig_nbformat": 4
 },
 "nbformat": 4,
 "nbformat_minor": 2
}
